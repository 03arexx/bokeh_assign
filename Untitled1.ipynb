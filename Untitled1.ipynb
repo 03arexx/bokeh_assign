{
  "nbformat": 4,
  "nbformat_minor": 0,
  "metadata": {
    "colab": {
      "provenance": []
    },
    "kernelspec": {
      "name": "python3",
      "display_name": "Python 3"
    },
    "language_info": {
      "name": "python"
    }
  },
  "cells": [
    {
      "cell_type": "code",
      "execution_count": null,
      "metadata": {
        "id": "YbWZVRpX9X1O"
      },
      "outputs": [],
      "source": [
        "from bokeh.plotting import figure, output_notebook, show\n",
        "\n",
        "# Prepare some data\n",
        "x = [1, 2, 3, 4, 5]\n",
        "y = [6, 7, 2, 4, 5]\n",
        "\n",
        "# Output to notebook\n",
        "output_notebook()\n",
        "\n",
        "# Create a new plot with a title and axis labels\n",
        "p = figure(title=\"Simple line example\", x_axis_label='x', y_axis_label='y')\n",
        "\n",
        "# Add a line renderer with legend and line thickness\n",
        "p.line(x, y, legend_label=\"Temp.\", line_width=2)\n",
        "\n",
        "# Show the results\n",
        "show(p)\n"
      ]
    },
    {
      "cell_type": "code",
      "source": [
        "from bokeh.plotting import figure, output_notebook, show\n",
        "\n",
        "# Prepare some data\n",
        "x = [1, 2, 3, 4, 5]\n",
        "y = [6, 7, 2, 4, 5]\n",
        "\n",
        "# Output to notebook\n",
        "output_notebook()\n",
        "\n",
        "# Create a new plot with a title and axis labels\n",
        "p = figure(title=\"Simple line example\", x_axis_label='x', y_axis_label='y')\n",
        "\n",
        "# Add a line renderer with legend and line thickness\n",
        "p.line(x, y, legend_label=\"Temp.\", line_width=2)\n",
        "\n",
        "# Add a circle glyph\n",
        "p.circle(x, y, size=10, color=\"navy\", alpha=0.5)\n",
        "\n",
        "# Show the results\n",
        "show(p)\n"
      ],
      "metadata": {
        "id": "Z5Zc4vUV9fx2"
      },
      "execution_count": null,
      "outputs": []
    },
    {
      "cell_type": "code",
      "source": [
        "from bokeh.plotting import figure, output_notebook, show\n",
        "\n",
        "# Prepare some data\n",
        "x = [1, 2, 3, 4, 5]\n",
        "y = [6, 7, 2, 4, 5]\n",
        "\n",
        "# Output to notebook\n",
        "output_notebook()\n",
        "\n",
        "# Create a new plot with a title and axis labels\n",
        "p = figure(title=\"Simple line example\", x_axis_label='x', y_axis_label='y')\n",
        "\n",
        "# Add a line renderer with legend and line thickness\n",
        "p.line(x, y, legend_label=\"Temp.\", line_width=2)\n",
        "\n",
        "# Customize the appearance\n",
        "p.title.text_color = \"olive\"\n",
        "p.title.text_font_size = \"16pt\"\n",
        "p.xaxis.axis_label_text_font_style = \"italic\"\n",
        "p.yaxis.axis_label_text_font_style = \"bold\"\n",
        "p.legend.location = \"top_left\"\n",
        "\n",
        "# Show the results\n",
        "show(p)\n"
      ],
      "metadata": {
        "id": "M7TVm_IL9u5y"
      },
      "execution_count": null,
      "outputs": []
    },
    {
      "cell_type": "code",
      "source": [
        "\n",
        "from bokeh.plotting import figure, curdoc\n",
        "from bokeh.layouts import column\n",
        "from bokeh.models import ColumnDataSource\n",
        "\n",
        "def create_app():\n",
        "    # Create a data source\n",
        "    source = ColumnDataSource(data=dict(x=[1, 2, 3, 4, 5], y=[6, 7, 2, 4, 5]))\n",
        "\n",
        "    # Create a plot\n",
        "    p = figure(title=\"Simple line example\", x_axis_label='x', y_axis_label='y')\n",
        "    p.line('x', 'y', source=source, legend_label=\"Temp.\", line_width=2)\n",
        "\n",
        "    # Define a callback function to update the plot (more on this later)\n",
        "    def update_data():\n",
        "        # Logic to update the data source goes here\n",
        "        pass\n",
        "\n",
        "    # Add a button to trigger the update\n",
        "    from bokeh.models import Button\n",
        "    button = Button(label=\"Update\")\n",
        "    button.on_click(update_data)\n",
        "\n",
        "    # Layout the plot and button\n",
        "    layout = column(p, button)\n",
        "\n",
        "    # Create a Bokeh document\n",
        "    doc = curdoc()\n",
        "    doc.add_root(layout)\n",
        "\n",
        "    return doc\n"
      ],
      "metadata": {
        "id": "fEVurR4B92ba"
      },
      "execution_count": null,
      "outputs": []
    },
    {
      "cell_type": "code",
      "source": [
        "# For Flask, you would typically render the Bokeh plot as a JSON object and embed it in an HTML template.\n",
        "\n",
        "from flask import Flask, render_template\n",
        "from bokeh.embed import json_item\n",
        "\n",
        "app = Flask(__name__)\n",
        "\n",
        "@app.route('/')\n",
        "def index():\n",
        "    # Create your Bokeh plot (using the create_app function from the previous example)\n",
        "    doc = create_app()\n",
        "\n",
        "    # Convert the Bokeh plot to a JSON object\n",
        "    plot_json = json_item(doc)\n",
        "\n",
        "    # Render the HTML template with the embedded plot\n",
        "    return render_template('index.html', plot_json=plot_json)\n",
        "\n",
        "if __name__ == '__main__':\n",
        "    app.run(debug=True)\n",
        "\n",
        "# Then, in your 'index.html' template, you would use JavaScript to embed the plot:\n",
        "\n",
        "<div id=\"plot\"></div>\n",
        "<script>\n",
        "    var plot_json = {{ plot_json | safe }};\n",
        "    Bokeh.embed.embed_item(plot_json, \"plot\");\n",
        "</script>\n",
        "\n",
        "# For Django, the process is similar, using Django's templating system to embed the JSON representation of the plot.\n"
      ],
      "metadata": {
        "id": "b3o7iLvf9_SS"
      },
      "execution_count": null,
      "outputs": []
    }
  ]
}